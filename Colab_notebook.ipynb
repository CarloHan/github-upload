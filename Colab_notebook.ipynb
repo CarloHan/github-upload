{
  "cells": [
    {
      "cell_type": "markdown",
      "metadata": {
        "id": "view-in-github",
        "colab_type": "text"
      },
      "source": [
        "<a href=\"https://colab.research.google.com/github/CarloHan/github-upload/blob/master/Colab_notebook.ipynb\" target=\"_parent\"><img src=\"https://colab.research.google.com/assets/colab-badge.svg\" alt=\"Open In Colab\"/></a>"
      ]
    },
    {
      "cell_type": "markdown",
      "source": [
        "# SDD Function"
      ],
      "metadata": {
        "id": "ik0cFyPljrQS"
      }
    },
    {
      "cell_type": "code",
      "source": [
        "import numpy as np\n",
        "import matplotlib.pyplot as plt\n",
        "\n",
        "def custom_sigmoid(x, max_value=2, mid_point=50, steep=0.399):\n",
        "  return max_value / (1 + np.exp(-steep * (x - mid_point)))\n",
        "\n",
        "x_values = np.linspace(0, 100, 1000)\n",
        "y_values = custom_sigmoid(x_values)\n",
        "\n",
        "plt.plot(x_values, y_values)\n",
        "plt.title('Custom Sigmoid Function')\n",
        "plt.xlabel('x')\n",
        "plt.ylabel('f(x)')\n",
        "plt.grid(True)\n",
        "plt.show()"
      ],
      "metadata": {
        "colab": {
          "base_uri": "https://localhost:8080/",
          "height": 472
        },
        "id": "Zldnn3LDjrsG",
        "outputId": "6851738d-6322-484d-d55f-17b453998a8e"
      },
      "execution_count": 13,
      "outputs": [
        {
          "output_type": "display_data",
          "data": {
            "text/plain": [
              "<Figure size 640x480 with 1 Axes>"
            ],
            "image/png": "[encoded data removed]"
          },
          "metadata": {}
        }
      ]
    },
    {
      "cell_type": "code",
      "source": [
        "import pandas as pd\n",
        "from scipy.stats import kurtosis, zscore\n",
        "\n",
        "# load excel file\n",
        "file_path = 'mydata.xlsx'\n",
        "df = pd.read_excel(file_path, sheet_name='Tabelle1')\n",
        "\n",
        "# drag data colum\n",
        "bal_time_ratio = df['bal_time_ratio_0122']\n",
        "\n",
        "# calculate\n",
        "mean_value = bal_time_ratio.mean()\n",
        "kurtosis_value = kurtosis(bal_time_ratio)\n",
        "z_scores = zscore(bal_time_ratio)\n",
        "damping_factor = custom_sigmoid(kurtosis_value)\n",
        "# output results\n",
        "print(\"Mean value = \", mean_value)\n",
        "print(\"Kurtosis value = \", kurtosis_value)\n",
        "for i, z_score in enumerate(z_scores):\n",
        "  print(f\"Z-Score of Cell {i}: {z_score}\")\n",
        "for i, z_score in enumerate(z_scores):\n",
        "  print(f\"Z-Score damped of Cell {i}: {z_score * damping_factor}\")\n",
        "\n",
        "\n"
      ],
      "metadata": {
        "colab": {
          "base_uri": "https://localhost:8080/"
        },
        "id": "-muMQUz3sLl2",
        "outputId": "47a35cc1-3c15-4ddc-f858-11daffe41020"
      },
      "execution_count": 7,
      "outputs": [
        {
          "output_type": "stream",
          "name": "stdout",
          "text": [
            "Mean value =  1.715462962962963\n",
            "Kurtosis value =  -1.0247919494643931\n",
            "Z-Score_damp of Cell 0: 0.8642581141708537\n",
            "Z-Score_damp of Cell 1: 0.854487374473329\n",
            "Z-Score_damp of Cell 2: 0.8642581141708537\n",
            "Z-Score_damp of Cell 3: 0.7958629362881815\n",
            "Z-Score_damp of Cell 4: 1.8120198648307366\n",
            "Z-Score_damp of Cell 5: 0.33663817050452705\n",
            "Z-Score_damp of Cell 6: 1.3430243593495574\n",
            "Z-Score_damp of Cell 7: 1.3527950990470823\n",
            "Z-Score_damp of Cell 8: 1.3723365784421313\n",
            "Z-Score_damp of Cell 9: -0.14212807467417676\n",
            "Z-Score_damp of Cell 10: 1.8608735633183597\n",
            "Z-Score_damp of Cell 11: 1.3723365784421313\n",
            "Z-Score_damp of Cell 12: 1.8608735633183597\n",
            "Z-Score_damp of Cell 13: 0.3659503895971006\n",
            "Z-Score_damp of Cell 14: -0.659977278642979\n",
            "Z-Score_damp of Cell 15: 1.3527950990470823\n",
            "Z-Score_damp of Cell 16: 0.37572112929462537\n",
            "Z-Score_damp of Cell 17: 0.3659503895971006\n",
            "Z-Score_damp of Cell 18: 0.3170966911094779\n",
            "Z-Score_damp of Cell 19: 0.8349458950782799\n",
            "Z-Score_damp of Cell 20: 1.8413320839233105\n",
            "Z-Score_damp of Cell 21: 1.3527950990470823\n",
            "Z-Score_damp of Cell 22: 1.3527950990470823\n",
            "Z-Score_damp of Cell 23: 1.3527950990470823\n",
            "Z-Score_damp of Cell 24: 1.3430243593495574\n",
            "Z-Score_damp of Cell 25: 1.3723365784421313\n",
            "Z-Score_damp of Cell 26: 1.3723365784421313\n",
            "Z-Score_damp of Cell 27: 0.8349458950782799\n",
            "Z-Score_damp of Cell 28: -0.1225865952791276\n",
            "Z-Score_damp of Cell 29: 1.3723365784421313\n",
            "Z-Score_damp of Cell 30: -0.6697480183405035\n",
            "Z-Score_damp of Cell 31: -0.15189881437170133\n",
            "Z-Score_damp of Cell 32: 0.8349458950782799\n",
            "Z-Score_damp of Cell 33: 0.3659503895971006\n",
            "Z-Score_damp of Cell 34: 0.34640891020205145\n",
            "Z-Score_damp of Cell 35: 0.37572112929462537\n",
            "Z-Score_damp of Cell 36: -0.6990602374330772\n",
            "Z-Score_damp of Cell 37: -0.20075251285932422\n",
            "Z-Score_damp of Cell 38: -0.6892894977355526\n",
            "Z-Score_damp of Cell 39: 0.854487374473329\n",
            "Z-Score_damp of Cell 40: -0.6892894977355526\n",
            "Z-Score_damp of Cell 41: -0.6892894977355526\n",
            "Z-Score_damp of Cell 42: 0.33663817050452705\n",
            "Z-Score_damp of Cell 43: 0.854487374473329\n",
            "Z-Score_damp of Cell 44: 1.3234828799545082\n",
            "Z-Score_damp of Cell 45: -1.1485142635192074\n",
            "Z-Score_damp of Cell 46: 0.3659503895971006\n",
            "Z-Score_damp of Cell 47: 1.3527950990470823\n",
            "Z-Score_damp of Cell 48: -0.1225865952791276\n",
            "Z-Score_damp of Cell 49: -0.14212807467417676\n",
            "Z-Score_damp of Cell 50: -0.659977278642979\n",
            "Z-Score_damp of Cell 51: -0.6404357992479297\n",
            "Z-Score_damp of Cell 52: -1.177826482611781\n",
            "Z-Score_damp of Cell 53: 0.8642581141708537\n",
            "Z-Score_damp of Cell 54: -0.6697480183405035\n",
            "Z-Score_damp of Cell 55: -0.15189881437170133\n",
            "Z-Score_damp of Cell 56: 1.3723365784421313\n",
            "Z-Score_damp of Cell 57: -0.15189881437170133\n",
            "Z-Score_damp of Cell 58: -0.6990602374330772\n",
            "Z-Score_damp of Cell 59: -1.1875972223093056\n",
            "Z-Score_damp of Cell 60: 1.3430243593495574\n",
            "Z-Score_damp of Cell 61: 0.33663817050452705\n",
            "Z-Score_damp of Cell 62: 0.33663817050452705\n",
            "Z-Score_damp of Cell 63: 0.3073259514119531\n",
            "Z-Score_damp of Cell 64: -0.1714402937667505\n",
            "Z-Score_damp of Cell 65: -0.14212807467417676\n",
            "Z-Score_damp of Cell 66: -0.6697480183405035\n",
            "Z-Score_damp of Cell 67: -0.6990602374330772\n",
            "Z-Score_damp of Cell 68: -1.1875972223093056\n",
            "Z-Score_damp of Cell 69: 0.37572112929462537\n",
            "Z-Score_damp of Cell 70: -0.14212807467417676\n",
            "Z-Score_damp of Cell 71: 0.8642581141708537\n",
            "Z-Score_damp of Cell 72: -1.676134207185534\n",
            "Z-Score_damp of Cell 73: -1.676134207185534\n",
            "Z-Score_damp of Cell 74: -1.676134207185534\n",
            "Z-Score_damp of Cell 75: -1.676134207185534\n",
            "Z-Score_damp of Cell 76: -1.676134207185534\n",
            "Z-Score_damp of Cell 77: -1.676134207185534\n",
            "Z-Score_damp of Cell 78: -1.1875972223093056\n",
            "Z-Score_damp of Cell 79: -1.676134207185534\n",
            "Z-Score_damp of Cell 80: -1.676134207185534\n",
            "Z-Score_damp of Cell 81: -1.6468219880929602\n",
            "Z-Score_damp of Cell 82: -0.659977278642979\n",
            "Z-Score_damp of Cell 83: -0.6990602374330772\n",
            "Z-Score_damp of Cell 84: -1.6663634674880095\n",
            "Z-Score_damp of Cell 85: -0.6990602374330772\n",
            "Z-Score_damp of Cell 86: -0.6990602374330772\n",
            "Z-Score_damp of Cell 87: -0.15189881437170133\n",
            "Z-Score_damp of Cell 88: -0.659977278642979\n",
            "Z-Score_damp of Cell 89: -0.15189881437170133\n",
            "Z-Score_damp of Cell 90: -0.6990602374330772\n",
            "Z-Score_damp of Cell 91: -0.6990602374330772\n",
            "Z-Score_damp of Cell 92: 0.3073259514119531\n",
            "Z-Score_damp of Cell 93: -0.6990602374330772\n",
            "Z-Score_damp of Cell 94: -0.6990602374330772\n",
            "Z-Score_damp of Cell 95: -0.6990602374330772\n",
            "Z-Score_damp of Cell 96: 0.33663817050452705\n",
            "Z-Score_damp of Cell 97: 0.8349458950782799\n",
            "Z-Score_damp of Cell 98: 0.8349458950782799\n",
            "Z-Score_damp of Cell 99: -0.6990602374330772\n",
            "Z-Score_damp of Cell 100: -1.1875972223093056\n",
            "Z-Score_damp of Cell 101: 0.8642581141708537\n",
            "Z-Score_damp of Cell 102: -0.6697480183405035\n",
            "Z-Score_damp of Cell 103: -0.6990602374330772\n",
            "Z-Score_damp of Cell 104: -1.1875972223093056\n",
            "Z-Score_damp of Cell 105: -1.676134207185534\n",
            "Z-Score_damp of Cell 106: -0.6404357992479297\n",
            "Z-Score_damp of Cell 107: -0.1225865952791276\n"
          ]
        }
      ]
    },
    {
      "cell_type": "code",
      "source": [],
      "metadata": {
        "id": "12wHlWvj-mWB"
      },
      "execution_count": 4,
      "outputs": []
    }
  ],
  "metadata": {
    "colab": {
      "name": "Overview of Colaboratory Features",
      "provenance": [],
      "include_colab_link": true
    },
    "kernelspec": {
      "display_name": "Python 3",
      "name": "python3"
    }
  },
  "nbformat": 4,
  "nbformat_minor": 0
}